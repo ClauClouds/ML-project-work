{
 "cells": [
  {
   "cell_type": "code",
   "execution_count": 2,
   "id": "9eac78a1",
   "metadata": {},
   "outputs": [],
   "source": [
    "import pandas as pd\n",
    "import datetime as dt\n",
    "from datetime import datetime, timedelta\n",
    "from suntime import Sun, SunTimeException\n",
    "from datetime import datetime, timezone\n",
    "import numpy as np\n",
    "import glob\n",
    "import os\n",
    "import xarray as xr\n",
    "from pathlib import Path\n",
    "import gzip\n",
    "import shutil\n",
    "import matplotlib.pyplot as plt"
   ]
  },
  {
   "cell_type": "code",
   "execution_count": 2,
   "id": "6b75eab7",
   "metadata": {},
   "outputs": [],
   "source": [
    "####################### all functions ###########################\n",
    "\n",
    "def sunlight_juelich(day, ds, time2):\n",
    "    '''\n",
    "    For the day it selects the timesteps with daylight (one hour after sunrise and one hour after sunrise)\n",
    "    !! time dimension from dataset needs to be called time or time10s and time60s!!\n",
    "    \n",
    "    time2: use for datasets from the solarpanel, for the rest put time2 = None'''\n",
    "\n",
    "    #coordinates of Juelich\n",
    "    latitude = 50.9224\n",
    "    longitude = 6.3639\n",
    "    sun = Sun(latitude, longitude)\n",
    "    \n",
    "    #getting the time of sunrise +1 hour and the time of sunset - 1 hour. (result has information of timezone)\n",
    "    sur_tzd = sun.get_local_sunrise_time(day) + timedelta(hours=1)\n",
    "    sus_tzd = sun.get_local_sunset_time(day) - timedelta(hours=1)\n",
    "\n",
    "    #delete timezonedesignator (Data from sup_joys are in UTC)\n",
    "    sur = sur_tzd.replace(tzinfo=None)\n",
    "    sus = sus_tzd.replace(tzinfo=None)\n",
    "    if time2 == None:\n",
    "        ds_light = ds.sel(time=slice(sur, sus))\n",
    "    else:\n",
    "        ds_light = ds.sel(time10s=slice(sur, sus), time60s=slice(sur, sus))\n",
    "   \n",
    "    return ds_light\n",
    "\n",
    "\n",
    "\n",
    "def merge_lw_sw_datasets(startdate, enddate, outpath, outname):\n",
    "    '''\n",
    "    What does it?\n",
    "    Step 4 from the Instructions:\n",
    "    \n",
    "    4. Saving data in array dataset instead of pandas data frame\n",
    "        1. Iterate on a list of files from input\n",
    "        2. Read also SW and LW downwelling, (as well as direct/diffuse SW radiation)\n",
    "    \n",
    "    \n",
    "    -> In a timeperiod (between startdate and enddate) opens the daily datasets, puts all data (LW, LW_error, SW, SW_error) \n",
    "    into one dataset and selects the timstamps with sunlight.\n",
    "    Saves it as a dataset in a given name and path. It creates new folders for every year if they do not already exist.\n",
    "    \n",
    "    \n",
    "    input:\n",
    "        - startdate: <string>: e.g.: '2020-01-01' \n",
    "        - enddate:   <string>: e.g.: '2020-03-02'\n",
    "        - outpath:   <string>: where to save the nc-file eg.: 'full_datasets'\n",
    "        - outname:   <string>: e.g.: 'all_data'  automaticlly appends the date of the day and an .nc at the end\n",
    "        \n",
    "        \n",
    "    output:\n",
    "        - saves a dataset (rlds, rlds_error, rsds, rsds_error), with the timesteps of the sunlight    \n",
    "    ''' \n",
    "    #Range of the datas\n",
    "    all_dates = pd.date_range(start=startdate,end=enddate)\n",
    "    \n",
    "\n",
    "    for day in all_dates:\n",
    "        \n",
    "        #get the day to string, to open the right file\n",
    "        date = day.strftime('%Y%m%d') + '000000.nc'\n",
    "        y = day.strftime('%Y')\n",
    "\n",
    "        #Open Files for LW and shortwave data and put them in one dataset\n",
    "         #getting the names from the data. Some names have ..._v00_... and some ..._v01...\n",
    "        fileName_lw = glob.glob('/data/hatpro/jue/hdcp2/radiation_hdcp2/'+ y +'/sups_joy_pyrg00_l1_rlds_v*_'+ date )\n",
    "        #if there is no file for the day it goes to the next day\n",
    "        if not fileName_lw:\n",
    "            print(date + ' no LW-file for this day found')\n",
    "            continue\n",
    "\n",
    "        #open files \n",
    "        fileObj_lw = Path(str(fileName_lw[0]))\n",
    "        if fileObj_lw.is_file() == True:\n",
    "            ds_lw = xr.open_dataset(str(fileName_lw[0]),\n",
    "                                   drop_variables = ['lon', 'lat'])\n",
    "\n",
    "        else: \n",
    "            print('File not found', fileName_lw[0])\n",
    "            continue\n",
    "\n",
    "        #getting the names from the data. Some names have ..._v00_... and some ..._v01...\n",
    "        fileName_sw = glob.glob('/data/hatpro/jue/hdcp2/radiation_hdcp2/'+ y +'/sups_joy_pyr00_l1_rsds_v*_'+ date )\n",
    "        #if there is no file for the day it goes to the next day\n",
    "        if not fileName_sw:\n",
    "            print(date + ' no SW-file for this day found')\n",
    "            continue\n",
    "\n",
    "        #open files \n",
    "        fileObj_sw = Path(str(fileName_sw[0]))\n",
    "        if fileObj_sw.is_file() == True:\n",
    "            ds_sw = xr.open_dataset(str(fileName_sw[0]))\n",
    "        else: \n",
    "            print('File not found', fileName_sw[0])\n",
    "            continue\n",
    "\n",
    "        #put the sw data to the lw data\n",
    "        ds_lw['rsds'] = ds_sw['rsds']\n",
    "        ds_lw['rsds_error'] = ds_sw['rsds_error']\n",
    "        ds = ds_lw\n",
    "        \n",
    "        #data with daylight\n",
    "        ds_light = sunlight_juelich(day, ds, None)\n",
    "\n",
    "        #checking if path/folder already exists\n",
    "        MYDIR = (outpath + '/' + y)\n",
    "        CHECK_FOLDER = os.path.isdir(MYDIR)\n",
    "\n",
    "        # If folder doesn't exist, then create it.\n",
    "        if not CHECK_FOLDER:\n",
    "            os.makedirs(MYDIR)\n",
    "            print(\"created folder : \", MYDIR)\n",
    "\n",
    "        #saving it as a new dataset \n",
    "        save = outpath +'/'+ y + '/'+ outname + date \n",
    "        ds_light.to_netcdf(save)  \n",
    "\n",
    " \n",
    "\n",
    "        \n",
    "def merge_all_datasets(startdate, enddate, outpath, outname):\n",
    "    '''\n",
    "    merges the datasets of lw and sw in the given timerange.\n",
    "    \n",
    "    - outname: <string>: eg. \n",
    "    \n",
    "    '''   \n",
    "    inpath = 'full_datasets'\n",
    "    inname = 'all_data'\n",
    "    \n",
    "    ds_merge = None\n",
    "    #Range of the datas\n",
    "    all_dates = pd.date_range(start=startdate,end=enddate)\n",
    "\n",
    "    for day in all_dates:\n",
    "        date = day.strftime('%Y%m%d') + '000000.nc'\n",
    "        y = day.strftime('%Y')\n",
    "        \n",
    "        #open dataset\n",
    "        fileName = inpath +'/'+ y + '/'+ inname + date \n",
    "\n",
    "        #open files \n",
    "        fileObj = Path(fileName)\n",
    "        if fileObj.is_file() == True:\n",
    "            ds = xr.open_dataset(fileName)\n",
    "        else: \n",
    "            print('File not found', fileName)\n",
    "            continue\n",
    "\n",
    "        #print(ds_merge)\n",
    "        if ds_merge is None:\n",
    "            ds_merge = ds\n",
    "        else:\n",
    "            ds_merge = ds.merge(ds_merge)\n",
    "        #except:\n",
    "        #    print(f'doing ', day, 'could not merge! alarm!')\n",
    "            \n",
    "    #checking if path/folder already exists\n",
    "    MYDIR = (outpath)\n",
    "    CHECK_FOLDER = os.path.isdir(MYDIR)\n",
    "\n",
    "    #If folder doesn't exist, then create it.\n",
    "    if not CHECK_FOLDER:\n",
    "        os.makedirs(MYDIR)\n",
    "        print(\"created folder : \", MYDIR)\n",
    "\n",
    "    path_and_name = MYDIR + '/' + outname + '_' +  all_dates[0].strftime('%Y%m%d') + '_' + all_dates[len(all_dates)-1].strftime('%Y%m%d')  + '.nc'\n",
    "    ds_merge.to_netcdf(path_and_name)  \n",
    "\n",
    "    return ds\n",
    "\n",
    "    \n",
    "\n",
    "\n",
    "def data_quality(startdate, enddate, inpath, inname, outpath, outname):\n",
    "    '''\n",
    "    - you can choose a range of time, where it selects the datsets of the days where BOTH (LW and SW) Variables exists.\n",
    "        (it uses the datasets which were created by the funct: merge_datasets)\n",
    "    - checks the datasets for nan values (deletes the timesteps), unrealistic values (10<lw<700, -5<sw<1500 ???), and for gaps (non existent timesteps)\n",
    "    - creates a dataframe from all days with the following information: starttime, endtime, length, how many timesteps\n",
    "    - creates a dataset with all days where no dataset was found for\n",
    "    \n",
    "     input:\n",
    "        - startdate: <string>: e.g.: '2020-01-01' \n",
    "        - enddate:   <string>: e.g.: '2020-03-02'\n",
    "        - inname:    <string>: e.g.: 'all_data'  automaticlly appends the date of the day and an .nc at the end\n",
    "        - inpath:    <string>: where to save the nc-file eg.: 'full_datasets'\n",
    "        - outpath:   <string>: where to save the csv-file eg.: 'data_quality'\n",
    "        - outname:   <string>: name of the pkl file (date is added): eg.: 'gaps' --> gaps_20200101_20200302.pkl\n",
    "        \n",
    "     output: \n",
    "        - saves gaps in a dataframe (starttime (the first missing), endtime (the last missing), length (counting one missing step as 5 sec), how many timesteps) as csv files (for each day)\n",
    "    '''\n",
    "    #Range of the datas\n",
    "    all_dates = pd.date_range(start=startdate,end=enddate)\n",
    "    ds_merge = None\n",
    "    df_merge = None\n",
    "    \n",
    "    #coordinates of Juelich\n",
    "    latitude = 50.908546\n",
    "    longitude = 6.413536\n",
    "    sun = Sun(latitude, longitude)\n",
    "    \n",
    "    # vektor for missing datasets \n",
    "    missing_dataset = np.full((len(all_dates)), 0)\n",
    "    \n",
    "    #loop backwards, because the df.merge, appends the dataframes on the top\n",
    "    count = len(all_dates) - 1 \n",
    "    for day in all_dates[::-1]:\n",
    "        \n",
    "\n",
    "        #get the day to string, to open the right file\n",
    "        date = day.strftime('%Y%m%d') + '000000.nc'\n",
    "        d = day.strftime('%d')\n",
    "        m = day.strftime('%m')\n",
    "        y = day.strftime('%Y')\n",
    "\n",
    "\n",
    "        #Open Files for LW and shortwave data and put them in one dataset\n",
    "         #getting the names from the data. Some names have ..._v00_... and some ..._v01...\n",
    "        #fileName ='full_datasets/' + y + '/all_data' + date\n",
    "        fileName = inpath +'/'+ y + '/'+ inname + date \n",
    "        \n",
    "        #open files \n",
    "        fileObj = Path(fileName)\n",
    "        if fileObj.is_file() == True:\n",
    "            ds = xr.open_dataset(fileName)\n",
    "\n",
    "        else: \n",
    "            print('File not found', fileName)\n",
    "            #where datasets are missing put the value to -1\n",
    "            missing_dataset[count] = -1\n",
    "            count = count - 1\n",
    "            continue\n",
    "        count = count - 1\n",
    "\n",
    "\n",
    "\n",
    "        #check if data values are realistic\n",
    "        #lw\n",
    "        ds['rlds_unrealistic_flag'] = (['time'], np.full((len(ds.rlds)), False))\n",
    "        for i in range(0,len(ds.rlds)):\n",
    "            if ds.rlds.values[i] > 700 or ds.rlds.values[i] < 10:\n",
    "                ds.rlds_unrealistic_flag[i] = True \n",
    "                print('unrealistic rlds-values detected', day)\n",
    "\n",
    "        #sw\n",
    "        ds['rsds_unrealistic_flag'] = (['time'], np.full((len(ds.rsds)), False))\n",
    "        for i in range(0, len(ds.rsds)):\n",
    "            if ds.rsds.values[i] > 1500 or ds.rsds.values[i] < -5:\n",
    "                ds.rsds_unrealistic_flag[i] = True \n",
    "                print('unrealistic rsds-values detected', day, print(ds.rsds.values[i]))\n",
    "\n",
    "\n",
    "\n",
    "        #check for nan values\n",
    "        ds['rlds_nan_flag'] = np.isnan(ds.rlds)\n",
    "        if sum(ds['rlds_nan_flag'].data) > 0:\n",
    "            print('nanrlds-Value detected', day)\n",
    "            a = np.where(ds['rlds_nan_flag'] == True)\n",
    "            print(len(a[0]), 'nan-rlds-Value detected', day, ds.time.values[a[0]])  \n",
    "            #delete the timestamp with nan\n",
    "            ds = ds.where(ds['rlds_nan_flag'] == False).dropna(how='all', dim='time')\n",
    "\n",
    "        ds['rsds_nan_flag'] = np.isnan(ds.rsds)\n",
    "        if sum(ds['rsds_nan_flag'].data) > 0:\n",
    "            a = np.where(ds['rsds_nan_flag'] == True)\n",
    "            print(len(a[0]), 'nan-rsds-Value detected', day, ds.time.values[a[0]])  \n",
    "            #delete the timestamp with nan\n",
    "            ds = ds.where(ds['rsds_nan_flag'] == False).dropna(how='all', dim='time')\n",
    "\n",
    "\n",
    "\n",
    "        #check for gaps\n",
    "        #create two lists with the timestamps, delete one object at the beginning and at the other list one at the end\n",
    "        # substract the two list --> gaps length between one timestamp earlier and one later\n",
    "        gap_end = ds.time.values\n",
    "        gap_end = np.delete(gap_end, 0)\n",
    "        gap_start = ds.time.values\n",
    "        gap_start = np.delete(gap_start, len(gap_end)-1)\n",
    "\n",
    "        gap_length = gap_end - gap_start\n",
    "        \n",
    "        #look where the gap is bigger than 5 seconds\n",
    "        real_gaps = []\n",
    "        #gives back the place of the gaps as a tuple\n",
    "        real_gaps = np.where(gap_length > np.timedelta64(5000000000,'ns'))\n",
    "        #print(real_gaps, len(real_gaps[0]), 'real_gaps')\n",
    "\n",
    "        #if there are gaps, create a panda dataframe and save it\n",
    "        #real_gaps is a tupel so len of the first vector\n",
    "        if len(real_gaps[0]) > 0:\n",
    "\n",
    "            gap_length_real = []\n",
    "            gap_start_real = []\n",
    "            gap_end_real = []\n",
    "            missing_timestamps = []\n",
    "            \n",
    "            i = 0\n",
    "            for i in range(0, len(real_gaps[0])):\n",
    "                gap_length_real.append(gap_length[real_gaps[0][i]])\n",
    "                gap_start_real.append(gap_start[real_gaps[0][i]])\n",
    "                gap_end_real.append(gap_end[real_gaps[0][i]])\n",
    "                missing_timestamps.append(gap_length[real_gaps[0][i]].astype('int64')/(5*10**9) -1)\n",
    "                \n",
    "            gap_start_real = gap_start_real +  np.timedelta64(5, 's')\n",
    "            gap_end_real = gap_end_real -  np.timedelta64(5, 's')\n",
    "            gap_length_real = gap_length_real - np.timedelta64(5, 's')\n",
    "            \n",
    "            #create dataframe and merge dataframes from all dates\n",
    "            data = {'start_of_gap': gap_start_real, 'end_of_gap': gap_end_real, 'length_of_gap': gap_length_real, 'missing_timestamps': missing_timestamps}\n",
    "            df = pd.DataFrame(data=data)\n",
    "\n",
    "   \n",
    "            if df_merge is None:\n",
    "                df_merge = df\n",
    "            else:\n",
    "                df_merge = df.merge(df_merge, how= 'outer')\n",
    "            #print(df_merge)\n",
    "       \n",
    "            \n",
    "    #checking if path/folder already exists\n",
    "    MYDIR = (outpath)\n",
    "    CHECK_FOLDER = os.path.isdir(MYDIR)\n",
    "\n",
    "    #If folder doesn't exist, then create it.\n",
    "    if not CHECK_FOLDER:\n",
    "        os.makedirs(MYDIR)\n",
    "        print(\"created folder : \", MYDIR)\n",
    "        \n",
    "    path_and_name = MYDIR + '/' + outname + '_' +  all_dates[0].strftime('%Y%m%d') + '_' + all_dates[len(all_dates)-1].strftime('%Y%m%d') \n",
    "        \n",
    "    #save dataframe\n",
    "    df_merge.to_pickle(path_and_name + '.pkl')\n",
    "    \n",
    "    #save as dataset: create dataset and save it as an nc-File\n",
    "    ds_merge = df_merge.to_xarray()\n",
    "    ds_merge.to_netcdf(path_and_name + '.nc') \n",
    "    \n",
    "    #save the dates where no dataset was available:\n",
    "    data_missing = {'days' :all_dates, 'missing_dataset': missing_dataset}\n",
    "    df_missing = pd.DataFrame(data=data_missing)\n",
    "    df_missing.to_pickle(MYDIR + '/missing_datasets_'+  all_dates[0].strftime('%Y%m%d') + '_' + all_dates[len(all_dates)-1].strftime('%Y%m%d') + '.pkl')\n",
    "\n",
    "    \n",
    "def gaps_per_day_in_a_year(year):\n",
    "    \n",
    "    '''\n",
    "    What does it do?\n",
    "        Plots the daily number of gaps in a year, when the plot is -1 then the dataset for the whole day is missing.\n",
    "        Pre-condition: run the funct data_quality from 01-01 to 12-31 of the year \n",
    "    input: \n",
    "        - year: <string>  year \n",
    "    output: \n",
    "        - plot of the number of gaps'''\n",
    "    \n",
    "    startdate = year + '-01-01'\n",
    "    enddate = year + '-12-31' \n",
    "    days = pd.date_range(start=startdate,end=enddate)\n",
    "\n",
    "\n",
    "    # dataframes with gaps and missing days\n",
    "    df_gaps = pd.read_pickle('data_quality/' + 'gaps_' + year + '0101_' + year + '1231.pkl')  \n",
    "    df_miss_dataset = pd.read_pickle('data_quality/' + 'missing_datasets_'+year+'0101_'+year+'1231.pkl')  \n",
    "\n",
    "\n",
    "    a = []\n",
    "    df_gaps['date_of_gap'] = np.zeros(len(df_gaps['start_of_gap']))\n",
    "    for i in range(0, len(df_gaps['start_of_gap'])):\n",
    "        a.append(df_gaps['start_of_gap'][i].replace(hour=0, minute=0, second=0))\n",
    "    df_gaps['date_of_gap'] = a\n",
    "\n",
    "\n",
    "    number_of_gaps = df_miss_dataset['missing_dataset']\n",
    "    for d in range(0, len(days)):\n",
    "        for g in range(0,len(df_gaps['date_of_gap'])):\n",
    "            if df_gaps['date_of_gap'][g] == days[d]:\n",
    "                #print(df_gaps['date_of_gap'][g], days[d])\n",
    "                number_of_gaps[d] = number_of_gaps[d] + 1\n",
    "\n",
    "\n",
    "    data = {'day': days, 'number_of_gaps' : number_of_gaps}\n",
    "    df = pd.DataFrame(data=data)   \n",
    "    ax = df.plot(kind = 'scatter', x = 'day', y = 'number_of_gaps', figsize=(15,5))\n",
    "    ax.set_title('Daily number of gaps in ' + year +' , -1 => whole day is missing')\n",
    "    ax.set_ylabel('Number of gaps')\n",
    "    ax.set_xlabel('Time')\n",
    "    \n",
    "    plt.show() "
   ]
  },
  {
   "cell_type": "code",
   "execution_count": 3,
   "id": "a4a399e7",
   "metadata": {
    "collapsed": true
   },
   "outputs": [
    {
     "name": "stdout",
     "output_type": "stream",
     "text": [
      "3 nan-rsds-Value detected 2019-07-25 00:00:00 ['2019-07-25T20:06:13.000000000' '2019-07-25T20:06:18.000000000'\n",
      " '2019-07-25T20:06:33.000000000']\n",
      "82 nan-rsds-Value detected 2019-07-22 00:00:00 ['2019-07-22T20:02:28.000000000' '2019-07-22T20:02:33.000000000'\n",
      " '2019-07-22T20:02:38.000000000' '2019-07-22T20:02:43.000000000'\n",
      " '2019-07-22T20:02:48.000000000' '2019-07-22T20:02:53.000000000'\n",
      " '2019-07-22T20:02:58.000000000' '2019-07-22T20:03:03.000000000'\n",
      " '2019-07-22T20:03:08.000000000' '2019-07-22T20:03:13.000000000'\n",
      " '2019-07-22T20:03:18.000000000' '2019-07-22T20:03:23.000000000'\n",
      " '2019-07-22T20:03:28.000000000' '2019-07-22T20:03:33.000000000'\n",
      " '2019-07-22T20:03:38.000000000' '2019-07-22T20:03:43.000000000'\n",
      " '2019-07-22T20:03:48.000000000' '2019-07-22T20:03:53.000000000'\n",
      " '2019-07-22T20:03:58.000000000' '2019-07-22T20:04:03.000000000'\n",
      " '2019-07-22T20:04:08.000000000' '2019-07-22T20:04:13.000000000'\n",
      " '2019-07-22T20:04:18.000000000' '2019-07-22T20:04:23.000000000'\n",
      " '2019-07-22T20:04:28.000000000' '2019-07-22T20:04:33.000000000'\n",
      " '2019-07-22T20:04:38.000000000' '2019-07-22T20:18:13.000000000'\n",
      " '2019-07-22T20:18:18.000000000' '2019-07-22T20:18:23.000000000'\n",
      " '2019-07-22T20:18:28.000000000' '2019-07-22T20:18:33.000000000'\n",
      " '2019-07-22T20:18:38.000000000' '2019-07-22T20:18:43.000000000'\n",
      " '2019-07-22T20:18:48.000000000' '2019-07-22T20:18:53.000000000'\n",
      " '2019-07-22T20:18:58.000000000' '2019-07-22T20:19:03.000000000'\n",
      " '2019-07-22T20:19:08.000000000' '2019-07-22T20:19:13.000000000'\n",
      " '2019-07-22T20:19:18.000000000' '2019-07-22T20:19:23.000000000'\n",
      " '2019-07-22T20:19:28.000000000' '2019-07-22T20:19:33.000000000'\n",
      " '2019-07-22T20:19:38.000000000' '2019-07-22T20:19:43.000000000'\n",
      " '2019-07-22T20:19:48.000000000' '2019-07-22T20:19:53.000000000'\n",
      " '2019-07-22T20:19:58.000000000' '2019-07-22T20:20:03.000000000'\n",
      " '2019-07-22T20:20:08.000000000' '2019-07-22T20:20:13.000000000'\n",
      " '2019-07-22T20:20:18.000000000' '2019-07-22T20:20:23.000000000'\n",
      " '2019-07-22T20:20:28.000000000' '2019-07-22T20:20:33.000000000'\n",
      " '2019-07-22T20:20:38.000000000' '2019-07-22T20:20:43.000000000'\n",
      " '2019-07-22T20:20:48.000000000' '2019-07-22T20:20:53.000000000'\n",
      " '2019-07-22T20:20:58.000000000' '2019-07-22T20:21:03.000000000'\n",
      " '2019-07-22T20:21:08.000000000' '2019-07-22T20:21:13.000000000'\n",
      " '2019-07-22T20:21:18.000000000' '2019-07-22T20:21:23.000000000'\n",
      " '2019-07-22T20:21:28.000000000' '2019-07-22T20:21:33.000000000'\n",
      " '2019-07-22T20:21:38.000000000' '2019-07-22T20:21:43.000000000'\n",
      " '2019-07-22T20:21:48.000000000' '2019-07-22T20:21:53.000000000'\n",
      " '2019-07-22T20:21:58.000000000' '2019-07-22T20:22:03.000000000'\n",
      " '2019-07-22T20:22:08.000000000' '2019-07-22T20:22:13.000000000'\n",
      " '2019-07-22T20:22:18.000000000' '2019-07-22T20:22:23.000000000'\n",
      " '2019-07-22T20:22:28.000000000' '2019-07-22T20:22:33.000000000'\n",
      " '2019-07-22T20:22:38.000000000' '2019-07-22T20:22:43.000000000']\n",
      "6 nan-rsds-Value detected 2019-06-28 00:00:00 ['2019-06-28T09:36:08.000000000' '2019-06-28T09:36:13.000000000'\n",
      " '2019-06-28T09:36:18.000000000' '2019-06-28T09:36:23.000000000'\n",
      " '2019-06-28T09:36:28.000000000' '2019-06-28T09:36:33.000000000']\n",
      "9 nan-rsds-Value detected 2019-06-27 00:00:00 ['2019-06-27T16:38:13.000000000' '2019-06-27T16:38:18.000000000'\n",
      " '2019-06-27T16:38:23.000000000' '2019-06-27T16:38:28.000000000'\n",
      " '2019-06-27T16:38:33.000000000' '2019-06-27T16:38:38.000000000'\n",
      " '2019-06-27T16:38:43.000000000' '2019-06-27T16:38:48.000000000'\n",
      " '2019-06-27T16:38:53.000000000']\n",
      "File not found full_datasets/2019/all_data20190506000000.nc\n"
     ]
    }
   ],
   "source": [
    "#run data_quality function to work with the result from it\n",
    "\n",
    "startdate = '2019-01-01'\n",
    "enddate = '2019-12-31'\n",
    "inpath = 'full_datasets'\n",
    "inname =  'all_data' \n",
    "outpath = 'data_quality'\n",
    "outname = 'gaps'\n",
    "data_quality(startdate, enddate, inpath, inname, outpath, outname)"
   ]
  },
  {
   "cell_type": "markdown",
   "id": "47195bac",
   "metadata": {},
   "source": [
    "### Plot the lw and sw in a historgram ###\n",
    "all data, without filters"
   ]
  },
  {
   "cell_type": "code",
   "execution_count": 3,
   "id": "a51ed246",
   "metadata": {
    "collapsed": true
   },
   "outputs": [
    {
     "ename": "KeyboardInterrupt",
     "evalue": "",
     "output_type": "error",
     "traceback": [
      "\u001b[0;31m---------------------------------------------------------------------------\u001b[0m",
      "\u001b[0;31mKeyboardInterrupt\u001b[0m                         Traceback (most recent call last)",
      "\u001b[0;32m/tmp/ipykernel_2887736/945240113.py\u001b[0m in \u001b[0;36m<module>\u001b[0;34m\u001b[0m\n\u001b[1;32m      2\u001b[0m \u001b[0menddate\u001b[0m \u001b[0;34m=\u001b[0m \u001b[0;34m'2019-12-31'\u001b[0m\u001b[0;34m\u001b[0m\u001b[0;34m\u001b[0m\u001b[0m\n\u001b[1;32m      3\u001b[0m \u001b[0;34m\u001b[0m\u001b[0m\n\u001b[0;32m----> 4\u001b[0;31m \u001b[0mmerge_all_datasets\u001b[0m\u001b[0;34m(\u001b[0m\u001b[0mstartdate\u001b[0m\u001b[0;34m,\u001b[0m \u001b[0menddate\u001b[0m\u001b[0;34m,\u001b[0m \u001b[0;34m'merged_dataset'\u001b[0m\u001b[0;34m,\u001b[0m \u001b[0;34m'merged'\u001b[0m\u001b[0;34m)\u001b[0m\u001b[0;34m\u001b[0m\u001b[0;34m\u001b[0m\u001b[0m\n\u001b[0m",
      "\u001b[0;32m/tmp/ipykernel_2887736/2641684810.py\u001b[0m in \u001b[0;36mmerge_all_datasets\u001b[0;34m(startdate, enddate, outpath, outname)\u001b[0m\n\u001b[1;32m    154\u001b[0m             \u001b[0mds_merge\u001b[0m \u001b[0;34m=\u001b[0m \u001b[0mds\u001b[0m\u001b[0;34m\u001b[0m\u001b[0;34m\u001b[0m\u001b[0m\n\u001b[1;32m    155\u001b[0m         \u001b[0;32melse\u001b[0m\u001b[0;34m:\u001b[0m\u001b[0;34m\u001b[0m\u001b[0;34m\u001b[0m\u001b[0m\n\u001b[0;32m--> 156\u001b[0;31m             \u001b[0mds_merge\u001b[0m \u001b[0;34m=\u001b[0m \u001b[0mds\u001b[0m\u001b[0;34m.\u001b[0m\u001b[0mmerge\u001b[0m\u001b[0;34m(\u001b[0m\u001b[0mds_merge\u001b[0m\u001b[0;34m)\u001b[0m\u001b[0;34m\u001b[0m\u001b[0;34m\u001b[0m\u001b[0m\n\u001b[0m\u001b[1;32m    157\u001b[0m         \u001b[0;31m#except:\u001b[0m\u001b[0;34m\u001b[0m\u001b[0;34m\u001b[0m\u001b[0m\n\u001b[1;32m    158\u001b[0m         \u001b[0;31m#    print(f'doing ', day, 'could not merge! alarm!')\u001b[0m\u001b[0;34m\u001b[0m\u001b[0;34m\u001b[0m\u001b[0m\n",
      "\u001b[0;32m~/.local/lib/python3.10/site-packages/xarray/core/dataset.py\u001b[0m in \u001b[0;36mmerge\u001b[0;34m(self, other, overwrite_vars, compat, join, fill_value, combine_attrs)\u001b[0m\n\u001b[1;32m   5027\u001b[0m \u001b[0;34m\u001b[0m\u001b[0m\n\u001b[1;32m   5028\u001b[0m         \u001b[0mother\u001b[0m \u001b[0;34m=\u001b[0m \u001b[0mother\u001b[0m\u001b[0;34m.\u001b[0m\u001b[0mto_dataset\u001b[0m\u001b[0;34m(\u001b[0m\u001b[0;34m)\u001b[0m \u001b[0;32mif\u001b[0m \u001b[0misinstance\u001b[0m\u001b[0;34m(\u001b[0m\u001b[0mother\u001b[0m\u001b[0;34m,\u001b[0m \u001b[0mDataArray\u001b[0m\u001b[0;34m)\u001b[0m \u001b[0;32melse\u001b[0m \u001b[0mother\u001b[0m\u001b[0;34m\u001b[0m\u001b[0;34m\u001b[0m\u001b[0m\n\u001b[0;32m-> 5029\u001b[0;31m         merge_result = dataset_merge_method(\n\u001b[0m\u001b[1;32m   5030\u001b[0m             \u001b[0mself\u001b[0m\u001b[0;34m,\u001b[0m\u001b[0;34m\u001b[0m\u001b[0;34m\u001b[0m\u001b[0m\n\u001b[1;32m   5031\u001b[0m             \u001b[0mother\u001b[0m\u001b[0;34m,\u001b[0m\u001b[0;34m\u001b[0m\u001b[0;34m\u001b[0m\u001b[0m\n",
      "\u001b[0;32m~/.local/lib/python3.10/site-packages/xarray/core/merge.py\u001b[0m in \u001b[0;36mdataset_merge_method\u001b[0;34m(dataset, other, overwrite_vars, compat, join, fill_value, combine_attrs)\u001b[0m\n\u001b[1;32m   1069\u001b[0m         \u001b[0mpriority_arg\u001b[0m \u001b[0;34m=\u001b[0m \u001b[0;36m2\u001b[0m\u001b[0;34m\u001b[0m\u001b[0;34m\u001b[0m\u001b[0m\n\u001b[1;32m   1070\u001b[0m \u001b[0;34m\u001b[0m\u001b[0m\n\u001b[0;32m-> 1071\u001b[0;31m     return merge_core(\n\u001b[0m\u001b[1;32m   1072\u001b[0m         \u001b[0mobjs\u001b[0m\u001b[0;34m,\u001b[0m\u001b[0;34m\u001b[0m\u001b[0;34m\u001b[0m\u001b[0m\n\u001b[1;32m   1073\u001b[0m         \u001b[0mcompat\u001b[0m\u001b[0;34m,\u001b[0m\u001b[0;34m\u001b[0m\u001b[0;34m\u001b[0m\u001b[0m\n",
      "\u001b[0;32m~/.local/lib/python3.10/site-packages/xarray/core/merge.py\u001b[0m in \u001b[0;36mmerge_core\u001b[0;34m(objects, compat, join, combine_attrs, priority_arg, explicit_coords, indexes, fill_value)\u001b[0m\n\u001b[1;32m    755\u001b[0m     \u001b[0mcollected\u001b[0m \u001b[0;34m=\u001b[0m \u001b[0mcollect_variables_and_indexes\u001b[0m\u001b[0;34m(\u001b[0m\u001b[0maligned\u001b[0m\u001b[0;34m,\u001b[0m \u001b[0mindexes\u001b[0m\u001b[0;34m=\u001b[0m\u001b[0mindexes\u001b[0m\u001b[0;34m)\u001b[0m\u001b[0;34m\u001b[0m\u001b[0;34m\u001b[0m\u001b[0m\n\u001b[1;32m    756\u001b[0m     \u001b[0mprioritized\u001b[0m \u001b[0;34m=\u001b[0m \u001b[0m_get_priority_vars_and_indexes\u001b[0m\u001b[0;34m(\u001b[0m\u001b[0maligned\u001b[0m\u001b[0;34m,\u001b[0m \u001b[0mpriority_arg\u001b[0m\u001b[0;34m,\u001b[0m \u001b[0mcompat\u001b[0m\u001b[0;34m=\u001b[0m\u001b[0mcompat\u001b[0m\u001b[0;34m)\u001b[0m\u001b[0;34m\u001b[0m\u001b[0;34m\u001b[0m\u001b[0m\n\u001b[0;32m--> 757\u001b[0;31m     variables, out_indexes = merge_collected(\n\u001b[0m\u001b[1;32m    758\u001b[0m         \u001b[0mcollected\u001b[0m\u001b[0;34m,\u001b[0m \u001b[0mprioritized\u001b[0m\u001b[0;34m,\u001b[0m \u001b[0mcompat\u001b[0m\u001b[0;34m=\u001b[0m\u001b[0mcompat\u001b[0m\u001b[0;34m,\u001b[0m \u001b[0mcombine_attrs\u001b[0m\u001b[0;34m=\u001b[0m\u001b[0mcombine_attrs\u001b[0m\u001b[0;34m\u001b[0m\u001b[0;34m\u001b[0m\u001b[0m\n\u001b[1;32m    759\u001b[0m     )\n",
      "\u001b[0;32m~/.local/lib/python3.10/site-packages/xarray/core/merge.py\u001b[0m in \u001b[0;36mmerge_collected\u001b[0;34m(grouped, prioritized, compat, combine_attrs, equals)\u001b[0m\n\u001b[1;32m    300\u001b[0m                 \u001b[0mvariables\u001b[0m \u001b[0;34m=\u001b[0m \u001b[0;34m[\u001b[0m\u001b[0mvariable\u001b[0m \u001b[0;32mfor\u001b[0m \u001b[0mvariable\u001b[0m\u001b[0;34m,\u001b[0m \u001b[0m_\u001b[0m \u001b[0;32min\u001b[0m \u001b[0melements_list\u001b[0m\u001b[0;34m]\u001b[0m\u001b[0;34m\u001b[0m\u001b[0;34m\u001b[0m\u001b[0m\n\u001b[1;32m    301\u001b[0m                 \u001b[0;32mtry\u001b[0m\u001b[0;34m:\u001b[0m\u001b[0;34m\u001b[0m\u001b[0;34m\u001b[0m\u001b[0m\n\u001b[0;32m--> 302\u001b[0;31m                     merged_vars[name] = unique_variable(\n\u001b[0m\u001b[1;32m    303\u001b[0m                         \u001b[0mname\u001b[0m\u001b[0;34m,\u001b[0m \u001b[0mvariables\u001b[0m\u001b[0;34m,\u001b[0m \u001b[0mcompat\u001b[0m\u001b[0;34m,\u001b[0m \u001b[0mequals\u001b[0m\u001b[0;34m.\u001b[0m\u001b[0mget\u001b[0m\u001b[0;34m(\u001b[0m\u001b[0mname\u001b[0m\u001b[0;34m,\u001b[0m \u001b[0;32mNone\u001b[0m\u001b[0;34m)\u001b[0m\u001b[0;34m\u001b[0m\u001b[0;34m\u001b[0m\u001b[0m\n\u001b[1;32m    304\u001b[0m                     )\n",
      "\u001b[0;32m~/.local/lib/python3.10/site-packages/xarray/core/merge.py\u001b[0m in \u001b[0;36munique_variable\u001b[0;34m(name, variables, compat, equals)\u001b[0m\n\u001b[1;32m    161\u001b[0m     \u001b[0;32mif\u001b[0m \u001b[0mcombine_method\u001b[0m\u001b[0;34m:\u001b[0m\u001b[0;34m\u001b[0m\u001b[0;34m\u001b[0m\u001b[0m\n\u001b[1;32m    162\u001b[0m         \u001b[0;32mfor\u001b[0m \u001b[0mvar\u001b[0m \u001b[0;32min\u001b[0m \u001b[0mvariables\u001b[0m\u001b[0;34m[\u001b[0m\u001b[0;36m1\u001b[0m\u001b[0;34m:\u001b[0m\u001b[0;34m]\u001b[0m\u001b[0;34m:\u001b[0m\u001b[0;34m\u001b[0m\u001b[0;34m\u001b[0m\u001b[0m\n\u001b[0;32m--> 163\u001b[0;31m             \u001b[0mout\u001b[0m \u001b[0;34m=\u001b[0m \u001b[0mgetattr\u001b[0m\u001b[0;34m(\u001b[0m\u001b[0mout\u001b[0m\u001b[0;34m,\u001b[0m \u001b[0mcombine_method\u001b[0m\u001b[0;34m)\u001b[0m\u001b[0;34m(\u001b[0m\u001b[0mvar\u001b[0m\u001b[0;34m)\u001b[0m\u001b[0;34m\u001b[0m\u001b[0;34m\u001b[0m\u001b[0m\n\u001b[0m\u001b[1;32m    164\u001b[0m \u001b[0;34m\u001b[0m\u001b[0m\n\u001b[1;32m    165\u001b[0m     \u001b[0;32mreturn\u001b[0m \u001b[0mout\u001b[0m\u001b[0;34m\u001b[0m\u001b[0;34m\u001b[0m\u001b[0m\n",
      "\u001b[0;32m~/.local/lib/python3.10/site-packages/xarray/core/variable.py\u001b[0m in \u001b[0;36mfillna\u001b[0;34m(self, value)\u001b[0m\n\u001b[1;32m   1867\u001b[0m \u001b[0;34m\u001b[0m\u001b[0m\n\u001b[1;32m   1868\u001b[0m     \u001b[0;32mdef\u001b[0m \u001b[0mfillna\u001b[0m\u001b[0;34m(\u001b[0m\u001b[0mself\u001b[0m\u001b[0;34m,\u001b[0m \u001b[0mvalue\u001b[0m\u001b[0;34m)\u001b[0m\u001b[0;34m:\u001b[0m\u001b[0;34m\u001b[0m\u001b[0;34m\u001b[0m\u001b[0m\n\u001b[0;32m-> 1869\u001b[0;31m         \u001b[0;32mreturn\u001b[0m \u001b[0mops\u001b[0m\u001b[0;34m.\u001b[0m\u001b[0mfillna\u001b[0m\u001b[0;34m(\u001b[0m\u001b[0mself\u001b[0m\u001b[0;34m,\u001b[0m \u001b[0mvalue\u001b[0m\u001b[0;34m)\u001b[0m\u001b[0;34m\u001b[0m\u001b[0;34m\u001b[0m\u001b[0m\n\u001b[0m\u001b[1;32m   1870\u001b[0m \u001b[0;34m\u001b[0m\u001b[0m\n\u001b[1;32m   1871\u001b[0m     \u001b[0;32mdef\u001b[0m \u001b[0mwhere\u001b[0m\u001b[0;34m(\u001b[0m\u001b[0mself\u001b[0m\u001b[0;34m,\u001b[0m \u001b[0mcond\u001b[0m\u001b[0;34m,\u001b[0m \u001b[0mother\u001b[0m\u001b[0;34m=\u001b[0m\u001b[0mdtypes\u001b[0m\u001b[0;34m.\u001b[0m\u001b[0mNA\u001b[0m\u001b[0;34m)\u001b[0m\u001b[0;34m:\u001b[0m\u001b[0;34m\u001b[0m\u001b[0;34m\u001b[0m\u001b[0m\n",
      "\u001b[0;32m~/.local/lib/python3.10/site-packages/xarray/core/ops.py\u001b[0m in \u001b[0;36mfillna\u001b[0;34m(data, other, join, dataset_join)\u001b[0m\n\u001b[1;32m    144\u001b[0m     \u001b[0;32mfrom\u001b[0m \u001b[0;34m.\u001b[0m\u001b[0mcomputation\u001b[0m \u001b[0;32mimport\u001b[0m \u001b[0mapply_ufunc\u001b[0m\u001b[0;34m\u001b[0m\u001b[0;34m\u001b[0m\u001b[0m\n\u001b[1;32m    145\u001b[0m \u001b[0;34m\u001b[0m\u001b[0m\n\u001b[0;32m--> 146\u001b[0;31m     return apply_ufunc(\n\u001b[0m\u001b[1;32m    147\u001b[0m         \u001b[0mduck_array_ops\u001b[0m\u001b[0;34m.\u001b[0m\u001b[0mfillna\u001b[0m\u001b[0;34m,\u001b[0m\u001b[0;34m\u001b[0m\u001b[0;34m\u001b[0m\u001b[0m\n\u001b[1;32m    148\u001b[0m         \u001b[0mdata\u001b[0m\u001b[0;34m,\u001b[0m\u001b[0;34m\u001b[0m\u001b[0;34m\u001b[0m\u001b[0m\n",
      "\u001b[0;32m~/.local/lib/python3.10/site-packages/xarray/core/computation.py\u001b[0m in \u001b[0;36mapply_ufunc\u001b[0;34m(func, input_core_dims, output_core_dims, exclude_dims, vectorize, join, dataset_join, dataset_fill_value, keep_attrs, kwargs, dask, output_dtypes, output_sizes, meta, dask_gufunc_kwargs, *args)\u001b[0m\n\u001b[1;32m   1212\u001b[0m     \u001b[0;31m# feed Variables directly through apply_variable_ufunc\u001b[0m\u001b[0;34m\u001b[0m\u001b[0;34m\u001b[0m\u001b[0m\n\u001b[1;32m   1213\u001b[0m     \u001b[0;32melif\u001b[0m \u001b[0many\u001b[0m\u001b[0;34m(\u001b[0m\u001b[0misinstance\u001b[0m\u001b[0;34m(\u001b[0m\u001b[0ma\u001b[0m\u001b[0;34m,\u001b[0m \u001b[0mVariable\u001b[0m\u001b[0;34m)\u001b[0m \u001b[0;32mfor\u001b[0m \u001b[0ma\u001b[0m \u001b[0;32min\u001b[0m \u001b[0margs\u001b[0m\u001b[0;34m)\u001b[0m\u001b[0;34m:\u001b[0m\u001b[0;34m\u001b[0m\u001b[0;34m\u001b[0m\u001b[0m\n\u001b[0;32m-> 1214\u001b[0;31m         \u001b[0;32mreturn\u001b[0m \u001b[0mvariables_vfunc\u001b[0m\u001b[0;34m(\u001b[0m\u001b[0;34m*\u001b[0m\u001b[0margs\u001b[0m\u001b[0;34m)\u001b[0m\u001b[0;34m\u001b[0m\u001b[0;34m\u001b[0m\u001b[0m\n\u001b[0m\u001b[1;32m   1215\u001b[0m     \u001b[0;32melse\u001b[0m\u001b[0;34m:\u001b[0m\u001b[0;34m\u001b[0m\u001b[0;34m\u001b[0m\u001b[0m\n\u001b[1;32m   1216\u001b[0m         \u001b[0;31m# feed anything else through apply_array_ufunc\u001b[0m\u001b[0;34m\u001b[0m\u001b[0;34m\u001b[0m\u001b[0m\n",
      "\u001b[0;32m~/.local/lib/python3.10/site-packages/xarray/core/computation.py\u001b[0m in \u001b[0;36mapply_variable_ufunc\u001b[0;34m(func, signature, exclude_dims, dask, output_dtypes, vectorize, keep_attrs, dask_gufunc_kwargs, *args)\u001b[0m\n\u001b[1;32m    769\u001b[0m             )\n\u001b[1;32m    770\u001b[0m \u001b[0;34m\u001b[0m\u001b[0m\n\u001b[0;32m--> 771\u001b[0;31m     \u001b[0mresult_data\u001b[0m \u001b[0;34m=\u001b[0m \u001b[0mfunc\u001b[0m\u001b[0;34m(\u001b[0m\u001b[0;34m*\u001b[0m\u001b[0minput_data\u001b[0m\u001b[0;34m)\u001b[0m\u001b[0;34m\u001b[0m\u001b[0;34m\u001b[0m\u001b[0m\n\u001b[0m\u001b[1;32m    772\u001b[0m \u001b[0;34m\u001b[0m\u001b[0m\n\u001b[1;32m    773\u001b[0m     \u001b[0;32mif\u001b[0m \u001b[0msignature\u001b[0m\u001b[0;34m.\u001b[0m\u001b[0mnum_outputs\u001b[0m \u001b[0;34m==\u001b[0m \u001b[0;36m1\u001b[0m\u001b[0;34m:\u001b[0m\u001b[0;34m\u001b[0m\u001b[0;34m\u001b[0m\u001b[0m\n",
      "\u001b[0;32m~/.local/lib/python3.10/site-packages/xarray/core/duck_array_ops.py\u001b[0m in \u001b[0;36mfillna\u001b[0;34m(data, other)\u001b[0m\n\u001b[1;32m    307\u001b[0m     \u001b[0;31m# correct unit\u001b[0m\u001b[0;34m\u001b[0m\u001b[0;34m\u001b[0m\u001b[0m\n\u001b[1;32m    308\u001b[0m     \u001b[0;31m# TODO: revert after https://github.com/hgrecco/pint/issues/1019 is fixed\u001b[0m\u001b[0;34m\u001b[0m\u001b[0;34m\u001b[0m\u001b[0m\n\u001b[0;32m--> 309\u001b[0;31m     \u001b[0;32mreturn\u001b[0m \u001b[0mwhere\u001b[0m\u001b[0;34m(\u001b[0m\u001b[0mnotnull\u001b[0m\u001b[0;34m(\u001b[0m\u001b[0mdata\u001b[0m\u001b[0;34m)\u001b[0m\u001b[0;34m,\u001b[0m \u001b[0mdata\u001b[0m\u001b[0;34m,\u001b[0m \u001b[0mother\u001b[0m\u001b[0;34m)\u001b[0m\u001b[0;34m\u001b[0m\u001b[0;34m\u001b[0m\u001b[0m\n\u001b[0m\u001b[1;32m    310\u001b[0m \u001b[0;34m\u001b[0m\u001b[0m\n\u001b[1;32m    311\u001b[0m \u001b[0;34m\u001b[0m\u001b[0m\n",
      "\u001b[0;32m~/.local/lib/python3.10/site-packages/xarray/core/duck_array_ops.py\u001b[0m in \u001b[0;36mwhere\u001b[0;34m(condition, x, y)\u001b[0m\n\u001b[1;32m    294\u001b[0m     \u001b[0;34m\"\"\"Three argument where() with better dtype promotion rules.\"\"\"\u001b[0m\u001b[0;34m\u001b[0m\u001b[0;34m\u001b[0m\u001b[0m\n\u001b[1;32m    295\u001b[0m     \u001b[0mxp\u001b[0m \u001b[0;34m=\u001b[0m \u001b[0mget_array_namespace\u001b[0m\u001b[0;34m(\u001b[0m\u001b[0mcondition\u001b[0m\u001b[0;34m)\u001b[0m\u001b[0;34m\u001b[0m\u001b[0;34m\u001b[0m\u001b[0m\n\u001b[0;32m--> 296\u001b[0;31m     \u001b[0;32mreturn\u001b[0m \u001b[0mxp\u001b[0m\u001b[0;34m.\u001b[0m\u001b[0mwhere\u001b[0m\u001b[0;34m(\u001b[0m\u001b[0mcondition\u001b[0m\u001b[0;34m,\u001b[0m \u001b[0;34m*\u001b[0m\u001b[0mas_shared_dtype\u001b[0m\u001b[0;34m(\u001b[0m\u001b[0;34m[\u001b[0m\u001b[0mx\u001b[0m\u001b[0;34m,\u001b[0m \u001b[0my\u001b[0m\u001b[0;34m]\u001b[0m\u001b[0;34m,\u001b[0m \u001b[0mxp\u001b[0m\u001b[0;34m=\u001b[0m\u001b[0mxp\u001b[0m\u001b[0;34m)\u001b[0m\u001b[0;34m)\u001b[0m\u001b[0;34m\u001b[0m\u001b[0;34m\u001b[0m\u001b[0m\n\u001b[0m\u001b[1;32m    297\u001b[0m \u001b[0;34m\u001b[0m\u001b[0m\n\u001b[1;32m    298\u001b[0m \u001b[0;34m\u001b[0m\u001b[0m\n",
      "\u001b[0;32m~/.local/lib/python3.10/site-packages/xarray/core/duck_array_ops.py\u001b[0m in \u001b[0;36mas_shared_dtype\u001b[0;34m(scalars_or_arrays, xp)\u001b[0m\n\u001b[1;32m    194\u001b[0m \u001b[0;32mdef\u001b[0m \u001b[0mas_shared_dtype\u001b[0m\u001b[0;34m(\u001b[0m\u001b[0mscalars_or_arrays\u001b[0m\u001b[0;34m,\u001b[0m \u001b[0mxp\u001b[0m\u001b[0;34m=\u001b[0m\u001b[0mnp\u001b[0m\u001b[0;34m)\u001b[0m\u001b[0;34m:\u001b[0m\u001b[0;34m\u001b[0m\u001b[0;34m\u001b[0m\u001b[0m\n\u001b[1;32m    195\u001b[0m     \u001b[0;34m\"\"\"Cast a arrays to a shared dtype using xarray's type promotion rules.\"\"\"\u001b[0m\u001b[0;34m\u001b[0m\u001b[0;34m\u001b[0m\u001b[0m\n\u001b[0;32m--> 196\u001b[0;31m     \u001b[0;32mif\u001b[0m \u001b[0many\u001b[0m\u001b[0;34m(\u001b[0m\u001b[0misinstance\u001b[0m\u001b[0;34m(\u001b[0m\u001b[0mx\u001b[0m\u001b[0;34m,\u001b[0m \u001b[0marray_type\u001b[0m\u001b[0;34m(\u001b[0m\u001b[0;34m\"cupy\"\u001b[0m\u001b[0;34m)\u001b[0m\u001b[0;34m)\u001b[0m \u001b[0;32mfor\u001b[0m \u001b[0mx\u001b[0m \u001b[0;32min\u001b[0m \u001b[0mscalars_or_arrays\u001b[0m\u001b[0;34m)\u001b[0m\u001b[0;34m:\u001b[0m\u001b[0;34m\u001b[0m\u001b[0;34m\u001b[0m\u001b[0m\n\u001b[0m\u001b[1;32m    197\u001b[0m         \u001b[0;32mimport\u001b[0m \u001b[0mcupy\u001b[0m \u001b[0;32mas\u001b[0m \u001b[0mcp\u001b[0m\u001b[0;34m\u001b[0m\u001b[0;34m\u001b[0m\u001b[0m\n\u001b[1;32m    198\u001b[0m \u001b[0;34m\u001b[0m\u001b[0m\n",
      "\u001b[0;32m~/.local/lib/python3.10/site-packages/xarray/core/duck_array_ops.py\u001b[0m in \u001b[0;36m<genexpr>\u001b[0;34m(.0)\u001b[0m\n\u001b[1;32m    194\u001b[0m \u001b[0;32mdef\u001b[0m \u001b[0mas_shared_dtype\u001b[0m\u001b[0;34m(\u001b[0m\u001b[0mscalars_or_arrays\u001b[0m\u001b[0;34m,\u001b[0m \u001b[0mxp\u001b[0m\u001b[0;34m=\u001b[0m\u001b[0mnp\u001b[0m\u001b[0;34m)\u001b[0m\u001b[0;34m:\u001b[0m\u001b[0;34m\u001b[0m\u001b[0;34m\u001b[0m\u001b[0m\n\u001b[1;32m    195\u001b[0m     \u001b[0;34m\"\"\"Cast a arrays to a shared dtype using xarray's type promotion rules.\"\"\"\u001b[0m\u001b[0;34m\u001b[0m\u001b[0;34m\u001b[0m\u001b[0m\n\u001b[0;32m--> 196\u001b[0;31m     \u001b[0;32mif\u001b[0m \u001b[0many\u001b[0m\u001b[0;34m(\u001b[0m\u001b[0misinstance\u001b[0m\u001b[0;34m(\u001b[0m\u001b[0mx\u001b[0m\u001b[0;34m,\u001b[0m \u001b[0marray_type\u001b[0m\u001b[0;34m(\u001b[0m\u001b[0;34m\"cupy\"\u001b[0m\u001b[0;34m)\u001b[0m\u001b[0;34m)\u001b[0m \u001b[0;32mfor\u001b[0m \u001b[0mx\u001b[0m \u001b[0;32min\u001b[0m \u001b[0mscalars_or_arrays\u001b[0m\u001b[0;34m)\u001b[0m\u001b[0;34m:\u001b[0m\u001b[0;34m\u001b[0m\u001b[0;34m\u001b[0m\u001b[0m\n\u001b[0m\u001b[1;32m    197\u001b[0m         \u001b[0;32mimport\u001b[0m \u001b[0mcupy\u001b[0m \u001b[0;32mas\u001b[0m \u001b[0mcp\u001b[0m\u001b[0;34m\u001b[0m\u001b[0;34m\u001b[0m\u001b[0m\n\u001b[1;32m    198\u001b[0m \u001b[0;34m\u001b[0m\u001b[0m\n",
      "\u001b[0;32m~/.local/lib/python3.10/site-packages/xarray/core/pycompat.py\u001b[0m in \u001b[0;36marray_type\u001b[0;34m(mod)\u001b[0m\n\u001b[1;32m     62\u001b[0m \u001b[0;32mdef\u001b[0m \u001b[0marray_type\u001b[0m\u001b[0;34m(\u001b[0m\u001b[0mmod\u001b[0m\u001b[0;34m:\u001b[0m \u001b[0mModType\u001b[0m\u001b[0;34m)\u001b[0m \u001b[0;34m->\u001b[0m \u001b[0mDuckArrayTypes\u001b[0m\u001b[0;34m:\u001b[0m\u001b[0;34m\u001b[0m\u001b[0;34m\u001b[0m\u001b[0m\n\u001b[1;32m     63\u001b[0m     \u001b[0;34m\"\"\"Quick wrapper to get the array class of the module.\"\"\"\u001b[0m\u001b[0;34m\u001b[0m\u001b[0;34m\u001b[0m\u001b[0m\n\u001b[0;32m---> 64\u001b[0;31m     \u001b[0;32mreturn\u001b[0m \u001b[0mDuckArrayModule\u001b[0m\u001b[0;34m(\u001b[0m\u001b[0mmod\u001b[0m\u001b[0;34m)\u001b[0m\u001b[0;34m.\u001b[0m\u001b[0mtype\u001b[0m\u001b[0;34m\u001b[0m\u001b[0;34m\u001b[0m\u001b[0m\n\u001b[0m\u001b[1;32m     65\u001b[0m \u001b[0;34m\u001b[0m\u001b[0m\n\u001b[1;32m     66\u001b[0m \u001b[0;34m\u001b[0m\u001b[0m\n",
      "\u001b[0;32m~/.local/lib/python3.10/site-packages/xarray/core/pycompat.py\u001b[0m in \u001b[0;36m__init__\u001b[0;34m(self, mod)\u001b[0m\n\u001b[1;32m     35\u001b[0m         \u001b[0mduck_array_type\u001b[0m\u001b[0;34m:\u001b[0m \u001b[0mDuckArrayTypes\u001b[0m\u001b[0;34m\u001b[0m\u001b[0;34m\u001b[0m\u001b[0m\n\u001b[1;32m     36\u001b[0m         \u001b[0;32mtry\u001b[0m\u001b[0;34m:\u001b[0m\u001b[0;34m\u001b[0m\u001b[0;34m\u001b[0m\u001b[0m\n\u001b[0;32m---> 37\u001b[0;31m             \u001b[0mduck_array_module\u001b[0m \u001b[0;34m=\u001b[0m \u001b[0mimport_module\u001b[0m\u001b[0;34m(\u001b[0m\u001b[0mmod\u001b[0m\u001b[0;34m)\u001b[0m\u001b[0;34m\u001b[0m\u001b[0;34m\u001b[0m\u001b[0m\n\u001b[0m\u001b[1;32m     38\u001b[0m             \u001b[0mduck_array_version\u001b[0m \u001b[0;34m=\u001b[0m \u001b[0mVersion\u001b[0m\u001b[0;34m(\u001b[0m\u001b[0mduck_array_module\u001b[0m\u001b[0;34m.\u001b[0m\u001b[0m__version__\u001b[0m\u001b[0;34m)\u001b[0m\u001b[0;34m\u001b[0m\u001b[0;34m\u001b[0m\u001b[0m\n\u001b[1;32m     39\u001b[0m \u001b[0;34m\u001b[0m\u001b[0m\n",
      "\u001b[0;32m/usr/lib/python3.10/importlib/__init__.py\u001b[0m in \u001b[0;36mimport_module\u001b[0;34m(name, package)\u001b[0m\n\u001b[1;32m    124\u001b[0m                 \u001b[0;32mbreak\u001b[0m\u001b[0;34m\u001b[0m\u001b[0;34m\u001b[0m\u001b[0m\n\u001b[1;32m    125\u001b[0m             \u001b[0mlevel\u001b[0m \u001b[0;34m+=\u001b[0m \u001b[0;36m1\u001b[0m\u001b[0;34m\u001b[0m\u001b[0;34m\u001b[0m\u001b[0m\n\u001b[0;32m--> 126\u001b[0;31m     \u001b[0;32mreturn\u001b[0m \u001b[0m_bootstrap\u001b[0m\u001b[0;34m.\u001b[0m\u001b[0m_gcd_import\u001b[0m\u001b[0;34m(\u001b[0m\u001b[0mname\u001b[0m\u001b[0;34m[\u001b[0m\u001b[0mlevel\u001b[0m\u001b[0;34m:\u001b[0m\u001b[0;34m]\u001b[0m\u001b[0;34m,\u001b[0m \u001b[0mpackage\u001b[0m\u001b[0;34m,\u001b[0m \u001b[0mlevel\u001b[0m\u001b[0;34m)\u001b[0m\u001b[0;34m\u001b[0m\u001b[0;34m\u001b[0m\u001b[0m\n\u001b[0m\u001b[1;32m    127\u001b[0m \u001b[0;34m\u001b[0m\u001b[0m\n\u001b[1;32m    128\u001b[0m \u001b[0;34m\u001b[0m\u001b[0m\n",
      "\u001b[0;32m/usr/lib/python3.10/importlib/_bootstrap.py\u001b[0m in \u001b[0;36m_gcd_import\u001b[0;34m(name, package, level)\u001b[0m\n",
      "\u001b[0;32m/usr/lib/python3.10/importlib/_bootstrap.py\u001b[0m in \u001b[0;36m_find_and_load\u001b[0;34m(name, import_)\u001b[0m\n",
      "\u001b[0;32m/usr/lib/python3.10/importlib/_bootstrap.py\u001b[0m in \u001b[0;36m_find_and_load_unlocked\u001b[0;34m(name, import_)\u001b[0m\n",
      "\u001b[0;32m/usr/lib/python3.10/importlib/_bootstrap.py\u001b[0m in \u001b[0;36m_find_spec\u001b[0;34m(name, path, target)\u001b[0m\n",
      "\u001b[0;32m/usr/lib/python3.10/importlib/_bootstrap_external.py\u001b[0m in \u001b[0;36mfind_spec\u001b[0;34m(cls, fullname, path, target)\u001b[0m\n",
      "\u001b[0;32m/usr/lib/python3.10/importlib/_bootstrap_external.py\u001b[0m in \u001b[0;36m_get_spec\u001b[0;34m(cls, fullname, path, target)\u001b[0m\n",
      "\u001b[0;32m/usr/lib/python3.10/importlib/_bootstrap_external.py\u001b[0m in \u001b[0;36mfind_spec\u001b[0;34m(self, fullname, target)\u001b[0m\n",
      "\u001b[0;32m/usr/lib/python3.10/importlib/_bootstrap_external.py\u001b[0m in \u001b[0;36m_path_stat\u001b[0;34m(path)\u001b[0m\n",
      "\u001b[0;31mKeyboardInterrupt\u001b[0m: "
     ]
    }
   ],
   "source": [
    "startdate = '2018-01-01'\n",
    "enddate = '2018-12-31'\n",
    "\n",
    "merge_all_datasets(startdate, enddate, 'merged_dataset', 'merged')"
   ]
  },
  {
   "cell_type": "markdown",
   "id": "b53fd131",
   "metadata": {},
   "source": [
    "##### 2018 ######"
   ]
  },
  {
   "cell_type": "code",
   "execution_count": 4,
   "id": "1899ef79",
   "metadata": {},
   "outputs": [
    {
     "name": "stdout",
     "output_type": "stream",
     "text": [
      "5th percentile of rlds (longwaveradiation) :  278.29998779296875\n",
      "95th percentile of rlds (longwaveradiation) :  400.20001220703125\n"
     ]
    },
    {
     "data": {
      "image/png": "[encoded data removed]",
      "text/plain": [
       "<Figure size 504x360 with 1 Axes>"
      ]
     },
     "metadata": {
      "needs_background": "light"
     },
     "output_type": "display_data"
    }
   ],
   "source": [
    "#2018 longwave\n",
    "ds_2018 = xr.open_dataset('merged_dataset/' + 'merged_20180101_20181231.nc')  \n",
    "\n",
    "\n",
    "ax = ds_2018['rlds'].plot.hist(figsize=(7,5), bins = 100)\n",
    "#ax.set_xlabel(\"length of the gaps [min]\")\n",
    "#ax.set_title('Histogram of gaps in the year 2018')\n",
    "\n",
    "print(\"5th percentile of rlds (longwaveradiation) : \",\n",
    "       np.percentile(ds_2018.rlds.values, 5))\n",
    "print(\"95th percentile of rlds (longwaveradiation) : \",\n",
    "       np.percentile(ds_2018.rlds.values, 95))"
   ]
  },
  {
   "cell_type": "code",
   "execution_count": 6,
   "id": "c82a84ca",
   "metadata": {},
   "outputs": [
    {
     "name": "stdout",
     "output_type": "stream",
     "text": [
      "5th percentile of rlds (shortwaveradiation):  0.5\n",
      "95th percentile of rlds (shortwaveradiation):  863.0\n"
     ]
    },
    {
     "data": {
      "image/png": "[encoded data removed]",
      "text/plain": [
       "<Figure size 504x360 with 1 Axes>"
      ]
     },
     "metadata": {
      "needs_background": "light"
     },
     "output_type": "display_data"
    }
   ],
   "source": [
    "#2018 shortwaveradiation\n",
    "ds_2018 = xr.open_dataset('merged_dataset/' + 'merged_20180101_20181231.nc')  \n",
    "ds_2018['rlds_nan_flag'] = np.isnan(ds_2018.rlds)\n",
    "ds_2018 = ds_2018.where(ds_2018['rlds_nan_flag'] == False).dropna(how='all', dim='time')\n",
    "\n",
    "\n",
    "ax = ds_2018['rsds'].plot.hist(figsize=(7,5), bins = 100)\n",
    "ax.set_ylabel(\"frequency\")\n",
    "\n",
    "\n",
    "print(\"5th percentile of rlds (shortwaveradiation): \",\n",
    "       np.nanpercentile(ds_2018.rsds.values, 5))\n",
    "print(\"95th percentile of rlds (shortwaveradiation): \",\n",
    "       np.nanpercentile(ds_2018.rsds.values, 95))"
   ]
  },
  {
   "cell_type": "markdown",
   "id": "7ee6e406",
   "metadata": {},
   "source": [
    "##### 2019 #####"
   ]
  },
  {
   "cell_type": "code",
   "execution_count": 91,
   "id": "5a6a89b9",
   "metadata": {},
   "outputs": [
    {
     "name": "stdout",
     "output_type": "stream",
     "text": [
      "5th percentile of rlds (longwaveradiation) :  261.0\n",
      "95th percentile of rlds (longwaveradiation) :  395.29998779296875\n"
     ]
    },
    {
     "data": {
      "image/png": "[encoded data removed]",
      "text/plain": [
       "<Figure size 504x360 with 1 Axes>"
      ]
     },
     "metadata": {
      "needs_background": "light"
     },
     "output_type": "display_data"
    }
   ],
   "source": [
    "#2019 longwave\n",
    "ds_2019 = xr.open_dataset('merged_dataset/' + 'merged_20190101_20191231.nc')  \n",
    "\n",
    "\n",
    "ax = ds_2019['rlds'].plot.hist(figsize=(7,5), bins = 100)\n",
    "ax.set_ylabel(\"frequency\")\n",
    "\n",
    "\n",
    "print(\"5th percentile of rlds (longwaveradiation) : \",\n",
    "       np.percentile(ds_2019.rlds.values, 5))\n",
    "print(\"95th percentile of rlds (longwaveradiation) : \",\n",
    "       np.percentile(ds_2019.rlds.values, 95))"
   ]
  },
  {
   "cell_type": "code",
   "execution_count": 6,
   "id": "7465fd8f",
   "metadata": {},
   "outputs": [
    {
     "name": "stdout",
     "output_type": "stream",
     "text": [
      "5th percentile of rlds (shortwaveradiation):  0.10000000149011612\n",
      "95th percentile of rlds (shortwaveradiation):  831.2999877929688\n"
     ]
    },
    {
     "data": {
      "image/png": "[encoded data removed]",
      "text/plain": [
       "<Figure size 504x360 with 1 Axes>"
      ]
     },
     "metadata": {
      "needs_background": "light"
     },
     "output_type": "display_data"
    }
   ],
   "source": [
    "#2019 shortwaveradiation\n",
    "ds_2019 = xr.open_dataset('merged_dataset/' + 'merged_20190101_20191231.nc')  \n",
    "\n",
    "\n",
    "ax = ds_2019['rsds'].plot.hist(figsize=(7,5), bins = 100)\n",
    "#ax.set_xlabel(\"length of the gaps [min]\")\n",
    "#ax.set_title('Histogram of gaps in the year 2018')\n",
    "\n",
    "print(\"5th percentile of rlds (shortwaveradiation): \",\n",
    "       np.nanpercentile(ds_2019.rsds.values, 3))\n",
    "print(\"95th percentile of rlds (shortwaveradiation): \",\n",
    "       np.nanpercentile(ds_2019.rsds.values, 95))"
   ]
  },
  {
   "cell_type": "markdown",
   "id": "b8fe3e2e",
   "metadata": {},
   "source": [
    "### Plot of the length of gaps of the data in a histogram ###\n"
   ]
  },
  {
   "cell_type": "code",
   "execution_count": 28,
   "id": "1c962c8b",
   "metadata": {
    "collapsed": true
   },
   "outputs": [
    {
     "ename": "KeyboardInterrupt",
     "evalue": "",
     "output_type": "error",
     "traceback": [
      "\u001b[0;31m---------------------------------------------------------------------------\u001b[0m",
      "\u001b[0;31mKeyboardInterrupt\u001b[0m                         Traceback (most recent call last)",
      "\u001b[0;32m/tmp/ipykernel_1993196/124275217.py\u001b[0m in \u001b[0;36m<module>\u001b[0;34m\u001b[0m\n\u001b[1;32m      2\u001b[0m \u001b[0mstartdate\u001b[0m \u001b[0;34m=\u001b[0m \u001b[0;34m'2019-01-01'\u001b[0m\u001b[0;34m\u001b[0m\u001b[0;34m\u001b[0m\u001b[0m\n\u001b[1;32m      3\u001b[0m \u001b[0menddate\u001b[0m \u001b[0;34m=\u001b[0m \u001b[0;34m'2019-12-31'\u001b[0m\u001b[0;34m\u001b[0m\u001b[0;34m\u001b[0m\u001b[0m\n\u001b[0;32m----> 4\u001b[0;31m \u001b[0mdata_quality\u001b[0m\u001b[0;34m(\u001b[0m\u001b[0mstartdate\u001b[0m\u001b[0;34m,\u001b[0m \u001b[0menddate\u001b[0m\u001b[0;34m,\u001b[0m \u001b[0;34m'full_datasets'\u001b[0m\u001b[0;34m,\u001b[0m \u001b[0;34m'all_data'\u001b[0m\u001b[0;34m,\u001b[0m \u001b[0;34m'data_quality'\u001b[0m\u001b[0;34m,\u001b[0m \u001b[0;34m'gaps'\u001b[0m\u001b[0;34m)\u001b[0m\u001b[0;34m\u001b[0m\u001b[0;34m\u001b[0m\u001b[0m\n\u001b[0m",
      "\u001b[0;32m/tmp/ipykernel_1993196/288377720.py\u001b[0m in \u001b[0;36mdata_quality\u001b[0;34m(startdate, enddate, inpath, inname, outpath, outname)\u001b[0m\n\u001b[1;32m    255\u001b[0m         \u001b[0mds\u001b[0m\u001b[0;34m[\u001b[0m\u001b[0;34m'rsds_unrealistic_flag'\u001b[0m\u001b[0;34m]\u001b[0m \u001b[0;34m=\u001b[0m \u001b[0;34m(\u001b[0m\u001b[0;34m[\u001b[0m\u001b[0;34m'time'\u001b[0m\u001b[0;34m]\u001b[0m\u001b[0;34m,\u001b[0m \u001b[0mnp\u001b[0m\u001b[0;34m.\u001b[0m\u001b[0mfull\u001b[0m\u001b[0;34m(\u001b[0m\u001b[0;34m(\u001b[0m\u001b[0mlen\u001b[0m\u001b[0;34m(\u001b[0m\u001b[0mds\u001b[0m\u001b[0;34m.\u001b[0m\u001b[0mrsds\u001b[0m\u001b[0;34m)\u001b[0m\u001b[0;34m)\u001b[0m\u001b[0;34m,\u001b[0m \u001b[0;32mFalse\u001b[0m\u001b[0;34m)\u001b[0m\u001b[0;34m)\u001b[0m\u001b[0;34m\u001b[0m\u001b[0;34m\u001b[0m\u001b[0m\n\u001b[1;32m    256\u001b[0m         \u001b[0;32mfor\u001b[0m \u001b[0mi\u001b[0m \u001b[0;32min\u001b[0m \u001b[0mrange\u001b[0m\u001b[0;34m(\u001b[0m\u001b[0;36m0\u001b[0m\u001b[0;34m,\u001b[0m \u001b[0mlen\u001b[0m\u001b[0;34m(\u001b[0m\u001b[0mds\u001b[0m\u001b[0;34m.\u001b[0m\u001b[0mrsds\u001b[0m\u001b[0;34m)\u001b[0m\u001b[0;34m)\u001b[0m\u001b[0;34m:\u001b[0m\u001b[0;34m\u001b[0m\u001b[0;34m\u001b[0m\u001b[0m\n\u001b[0;32m--> 257\u001b[0;31m             \u001b[0;32mif\u001b[0m \u001b[0mds\u001b[0m\u001b[0;34m.\u001b[0m\u001b[0mrsds\u001b[0m\u001b[0;34m.\u001b[0m\u001b[0mvalues\u001b[0m\u001b[0;34m[\u001b[0m\u001b[0mi\u001b[0m\u001b[0;34m]\u001b[0m \u001b[0;34m>\u001b[0m \u001b[0;36m1500\u001b[0m \u001b[0;32mor\u001b[0m \u001b[0mds\u001b[0m\u001b[0;34m.\u001b[0m\u001b[0mrsds\u001b[0m\u001b[0;34m.\u001b[0m\u001b[0mvalues\u001b[0m\u001b[0;34m[\u001b[0m\u001b[0mi\u001b[0m\u001b[0;34m]\u001b[0m \u001b[0;34m<\u001b[0m \u001b[0;34m-\u001b[0m\u001b[0;36m5\u001b[0m\u001b[0;34m:\u001b[0m\u001b[0;34m\u001b[0m\u001b[0;34m\u001b[0m\u001b[0m\n\u001b[0m\u001b[1;32m    258\u001b[0m                 \u001b[0mds\u001b[0m\u001b[0;34m.\u001b[0m\u001b[0mrsds_unrealistic_flag\u001b[0m\u001b[0;34m[\u001b[0m\u001b[0mi\u001b[0m\u001b[0;34m]\u001b[0m \u001b[0;34m=\u001b[0m \u001b[0;32mTrue\u001b[0m\u001b[0;34m\u001b[0m\u001b[0;34m\u001b[0m\u001b[0m\n\u001b[1;32m    259\u001b[0m                 \u001b[0mprint\u001b[0m\u001b[0;34m(\u001b[0m\u001b[0;34m'unrealistic rsds-values detected'\u001b[0m\u001b[0;34m,\u001b[0m \u001b[0mday\u001b[0m\u001b[0;34m,\u001b[0m \u001b[0mprint\u001b[0m\u001b[0;34m(\u001b[0m\u001b[0mds\u001b[0m\u001b[0;34m.\u001b[0m\u001b[0mrsds\u001b[0m\u001b[0;34m.\u001b[0m\u001b[0mvalues\u001b[0m\u001b[0;34m[\u001b[0m\u001b[0mi\u001b[0m\u001b[0;34m]\u001b[0m\u001b[0;34m)\u001b[0m\u001b[0;34m)\u001b[0m\u001b[0;34m\u001b[0m\u001b[0;34m\u001b[0m\u001b[0m\n",
      "\u001b[0;32m~/.local/lib/python3.10/site-packages/xarray/core/dataarray.py\u001b[0m in \u001b[0;36mvalues\u001b[0;34m(self)\u001b[0m\n\u001b[1;32m    727\u001b[0m         \u001b[0mtype\u001b[0m \u001b[0mdoes\u001b[0m \u001b[0;32mnot\u001b[0m \u001b[0msupport\u001b[0m \u001b[0mcoercion\u001b[0m \u001b[0mlike\u001b[0m \u001b[0mthis\u001b[0m \u001b[0;34m(\u001b[0m\u001b[0me\u001b[0m\u001b[0;34m.\u001b[0m\u001b[0mg\u001b[0m\u001b[0;34m.\u001b[0m \u001b[0mcupy\u001b[0m\u001b[0;34m)\u001b[0m\u001b[0;34m.\u001b[0m\u001b[0;34m\u001b[0m\u001b[0;34m\u001b[0m\u001b[0m\n\u001b[1;32m    728\u001b[0m         \"\"\"\n\u001b[0;32m--> 729\u001b[0;31m         \u001b[0;32mreturn\u001b[0m \u001b[0mself\u001b[0m\u001b[0;34m.\u001b[0m\u001b[0mvariable\u001b[0m\u001b[0;34m.\u001b[0m\u001b[0mvalues\u001b[0m\u001b[0;34m\u001b[0m\u001b[0;34m\u001b[0m\u001b[0m\n\u001b[0m\u001b[1;32m    730\u001b[0m \u001b[0;34m\u001b[0m\u001b[0m\n\u001b[1;32m    731\u001b[0m     \u001b[0;34m@\u001b[0m\u001b[0mvalues\u001b[0m\u001b[0;34m.\u001b[0m\u001b[0msetter\u001b[0m\u001b[0;34m\u001b[0m\u001b[0;34m\u001b[0m\u001b[0m\n",
      "\u001b[0;32m~/.local/lib/python3.10/site-packages/xarray/core/variable.py\u001b[0m in \u001b[0;36mvalues\u001b[0;34m(self)\u001b[0m\n\u001b[1;32m    606\u001b[0m     \u001b[0;32mdef\u001b[0m \u001b[0mvalues\u001b[0m\u001b[0;34m(\u001b[0m\u001b[0mself\u001b[0m\u001b[0;34m)\u001b[0m\u001b[0;34m:\u001b[0m\u001b[0;34m\u001b[0m\u001b[0;34m\u001b[0m\u001b[0m\n\u001b[1;32m    607\u001b[0m         \u001b[0;34m\"\"\"The variable's data as a numpy.ndarray\"\"\"\u001b[0m\u001b[0;34m\u001b[0m\u001b[0;34m\u001b[0m\u001b[0m\n\u001b[0;32m--> 608\u001b[0;31m         \u001b[0;32mreturn\u001b[0m \u001b[0m_as_array_or_item\u001b[0m\u001b[0;34m(\u001b[0m\u001b[0mself\u001b[0m\u001b[0;34m.\u001b[0m\u001b[0m_data\u001b[0m\u001b[0;34m)\u001b[0m\u001b[0;34m\u001b[0m\u001b[0;34m\u001b[0m\u001b[0m\n\u001b[0m\u001b[1;32m    609\u001b[0m \u001b[0;34m\u001b[0m\u001b[0m\n\u001b[1;32m    610\u001b[0m     \u001b[0;34m@\u001b[0m\u001b[0mvalues\u001b[0m\u001b[0;34m.\u001b[0m\u001b[0msetter\u001b[0m\u001b[0;34m\u001b[0m\u001b[0;34m\u001b[0m\u001b[0m\n",
      "\u001b[0;32m~/.local/lib/python3.10/site-packages/xarray/core/variable.py\u001b[0m in \u001b[0;36m_as_array_or_item\u001b[0;34m(data)\u001b[0m\n\u001b[1;32m    312\u001b[0m     \u001b[0mTODO\u001b[0m\u001b[0;34m:\u001b[0m \u001b[0mremove\u001b[0m \u001b[0mthis\u001b[0m \u001b[0;34m(\u001b[0m\u001b[0mreplace\u001b[0m \u001b[0;32mwith\u001b[0m \u001b[0mnp\u001b[0m\u001b[0;34m.\u001b[0m\u001b[0masarray\u001b[0m\u001b[0;34m)\u001b[0m \u001b[0monce\u001b[0m \u001b[0mthese\u001b[0m \u001b[0missues\u001b[0m \u001b[0mare\u001b[0m \u001b[0mfixed\u001b[0m\u001b[0;34m\u001b[0m\u001b[0;34m\u001b[0m\u001b[0m\n\u001b[1;32m    313\u001b[0m     \"\"\"\n\u001b[0;32m--> 314\u001b[0;31m     \u001b[0mdata\u001b[0m \u001b[0;34m=\u001b[0m \u001b[0mnp\u001b[0m\u001b[0;34m.\u001b[0m\u001b[0masarray\u001b[0m\u001b[0;34m(\u001b[0m\u001b[0mdata\u001b[0m\u001b[0;34m)\u001b[0m\u001b[0;34m\u001b[0m\u001b[0;34m\u001b[0m\u001b[0m\n\u001b[0m\u001b[1;32m    315\u001b[0m     \u001b[0;32mif\u001b[0m \u001b[0mdata\u001b[0m\u001b[0;34m.\u001b[0m\u001b[0mndim\u001b[0m \u001b[0;34m==\u001b[0m \u001b[0;36m0\u001b[0m\u001b[0;34m:\u001b[0m\u001b[0;34m\u001b[0m\u001b[0;34m\u001b[0m\u001b[0m\n\u001b[1;32m    316\u001b[0m         \u001b[0;32mif\u001b[0m \u001b[0mdata\u001b[0m\u001b[0;34m.\u001b[0m\u001b[0mdtype\u001b[0m\u001b[0;34m.\u001b[0m\u001b[0mkind\u001b[0m \u001b[0;34m==\u001b[0m \u001b[0;34m\"M\"\u001b[0m\u001b[0;34m:\u001b[0m\u001b[0;34m\u001b[0m\u001b[0;34m\u001b[0m\u001b[0m\n",
      "\u001b[0;32m~/.local/lib/python3.10/site-packages/xarray/core/indexing.py\u001b[0m in \u001b[0;36m__array__\u001b[0;34m(self, dtype)\u001b[0m\n\u001b[1;32m    652\u001b[0m     \u001b[0;32mdef\u001b[0m \u001b[0m__array__\u001b[0m\u001b[0;34m(\u001b[0m\u001b[0mself\u001b[0m\u001b[0;34m,\u001b[0m \u001b[0mdtype\u001b[0m\u001b[0;34m=\u001b[0m\u001b[0;32mNone\u001b[0m\u001b[0;34m)\u001b[0m\u001b[0;34m:\u001b[0m\u001b[0;34m\u001b[0m\u001b[0;34m\u001b[0m\u001b[0m\n\u001b[1;32m    653\u001b[0m         \u001b[0mself\u001b[0m\u001b[0;34m.\u001b[0m\u001b[0m_ensure_cached\u001b[0m\u001b[0;34m(\u001b[0m\u001b[0;34m)\u001b[0m\u001b[0;34m\u001b[0m\u001b[0;34m\u001b[0m\u001b[0m\n\u001b[0;32m--> 654\u001b[0;31m         \u001b[0;32mreturn\u001b[0m \u001b[0mnp\u001b[0m\u001b[0;34m.\u001b[0m\u001b[0masarray\u001b[0m\u001b[0;34m(\u001b[0m\u001b[0mself\u001b[0m\u001b[0;34m.\u001b[0m\u001b[0marray\u001b[0m\u001b[0;34m,\u001b[0m \u001b[0mdtype\u001b[0m\u001b[0;34m=\u001b[0m\u001b[0mdtype\u001b[0m\u001b[0;34m)\u001b[0m\u001b[0;34m\u001b[0m\u001b[0;34m\u001b[0m\u001b[0m\n\u001b[0m\u001b[1;32m    655\u001b[0m \u001b[0;34m\u001b[0m\u001b[0m\n\u001b[1;32m    656\u001b[0m     \u001b[0;32mdef\u001b[0m \u001b[0m__getitem__\u001b[0m\u001b[0;34m(\u001b[0m\u001b[0mself\u001b[0m\u001b[0;34m,\u001b[0m \u001b[0mkey\u001b[0m\u001b[0;34m)\u001b[0m\u001b[0;34m:\u001b[0m\u001b[0;34m\u001b[0m\u001b[0;34m\u001b[0m\u001b[0m\n",
      "\u001b[0;32m~/.local/lib/python3.10/site-packages/xarray/core/indexing.py\u001b[0m in \u001b[0;36m__array__\u001b[0;34m(self, dtype)\u001b[0m\n\u001b[1;32m    444\u001b[0m     \u001b[0;32mdef\u001b[0m \u001b[0m__array__\u001b[0m\u001b[0;34m(\u001b[0m\u001b[0mself\u001b[0m\u001b[0;34m,\u001b[0m \u001b[0mdtype\u001b[0m\u001b[0;34m=\u001b[0m\u001b[0;32mNone\u001b[0m\u001b[0;34m)\u001b[0m\u001b[0;34m:\u001b[0m\u001b[0;34m\u001b[0m\u001b[0;34m\u001b[0m\u001b[0m\n\u001b[1;32m    445\u001b[0m         \u001b[0mkey\u001b[0m \u001b[0;34m=\u001b[0m \u001b[0mBasicIndexer\u001b[0m\u001b[0;34m(\u001b[0m\u001b[0;34m(\u001b[0m\u001b[0mslice\u001b[0m\u001b[0;34m(\u001b[0m\u001b[0;32mNone\u001b[0m\u001b[0;34m)\u001b[0m\u001b[0;34m,\u001b[0m\u001b[0;34m)\u001b[0m \u001b[0;34m*\u001b[0m \u001b[0mself\u001b[0m\u001b[0;34m.\u001b[0m\u001b[0mndim\u001b[0m\u001b[0;34m)\u001b[0m\u001b[0;34m\u001b[0m\u001b[0;34m\u001b[0m\u001b[0m\n\u001b[0;32m--> 446\u001b[0;31m         \u001b[0;32mreturn\u001b[0m \u001b[0mnp\u001b[0m\u001b[0;34m.\u001b[0m\u001b[0masarray\u001b[0m\u001b[0;34m(\u001b[0m\u001b[0mself\u001b[0m\u001b[0;34m[\u001b[0m\u001b[0mkey\u001b[0m\u001b[0;34m]\u001b[0m\u001b[0;34m,\u001b[0m \u001b[0mdtype\u001b[0m\u001b[0;34m=\u001b[0m\u001b[0mdtype\u001b[0m\u001b[0;34m)\u001b[0m\u001b[0;34m\u001b[0m\u001b[0;34m\u001b[0m\u001b[0m\n\u001b[0m\u001b[1;32m    447\u001b[0m \u001b[0;34m\u001b[0m\u001b[0m\n\u001b[1;32m    448\u001b[0m \u001b[0;34m\u001b[0m\u001b[0m\n",
      "\u001b[0;32m~/.local/lib/python3.10/site-packages/xarray/core/indexing.py\u001b[0m in \u001b[0;36m__getitem__\u001b[0;34m(self, key)\u001b[0m\n\u001b[1;32m   1261\u001b[0m \u001b[0;34m\u001b[0m\u001b[0m\n\u001b[1;32m   1262\u001b[0m     \u001b[0;32mdef\u001b[0m \u001b[0m__getitem__\u001b[0m\u001b[0;34m(\u001b[0m\u001b[0mself\u001b[0m\u001b[0;34m,\u001b[0m \u001b[0mkey\u001b[0m\u001b[0;34m)\u001b[0m\u001b[0;34m:\u001b[0m\u001b[0;34m\u001b[0m\u001b[0;34m\u001b[0m\u001b[0m\n\u001b[0;32m-> 1263\u001b[0;31m         \u001b[0marray\u001b[0m\u001b[0;34m,\u001b[0m \u001b[0mkey\u001b[0m \u001b[0;34m=\u001b[0m \u001b[0mself\u001b[0m\u001b[0;34m.\u001b[0m\u001b[0m_indexing_array_and_key\u001b[0m\u001b[0;34m(\u001b[0m\u001b[0mkey\u001b[0m\u001b[0;34m)\u001b[0m\u001b[0;34m\u001b[0m\u001b[0;34m\u001b[0m\u001b[0m\n\u001b[0m\u001b[1;32m   1264\u001b[0m         \u001b[0;32mreturn\u001b[0m \u001b[0marray\u001b[0m\u001b[0;34m[\u001b[0m\u001b[0mkey\u001b[0m\u001b[0;34m]\u001b[0m\u001b[0;34m\u001b[0m\u001b[0;34m\u001b[0m\u001b[0m\n\u001b[1;32m   1265\u001b[0m \u001b[0;34m\u001b[0m\u001b[0m\n",
      "\u001b[0;31mKeyboardInterrupt\u001b[0m: "
     ]
    }
   ],
   "source": [
    "#help(data_quality)\n",
    "startdate = '2019-01-01'\n",
    "enddate = '2019-12-31'\n",
    "data_quality(startdate, enddate, 'full_datasets', 'all_data', 'data_quality', 'gaps')"
   ]
  },
  {
   "cell_type": "code",
   "execution_count": 29,
   "id": "ad98c2dc",
   "metadata": {},
   "outputs": [
    {
     "data": {
      "text/plain": [
       "Text(0.5, 1.0, 'Histogram of the length of gaps in the year 2018')"
      ]
     },
     "execution_count": 29,
     "metadata": {},
     "output_type": "execute_result"
    },
    {
     "data": {
      "image/png": "[encoded data removed]",
      "text/plain": [
       "<Figure size 720x360 with 1 Axes>"
      ]
     },
     "metadata": {
      "needs_background": "light"
     },
     "output_type": "display_data"
    }
   ],
   "source": [
    "#2018\n",
    "df_2018 = pd.read_pickle('data_quality/' + 'gaps_20180101_20181231.pkl')  \n",
    "df_2018['length_of_gap']\n",
    "\n",
    "ax = df_2018['length_of_gap'].astype('timedelta64[m]').plot.hist(figsize=(10,5),bins = 60 )\n",
    "ax.set_xlabel(\"length of the length of gaps [min]\")\n",
    "ax.set_title('Histogram of the length of gaps in the year 2018')\n"
   ]
  },
  {
   "cell_type": "code",
   "execution_count": 30,
   "id": "96eed3d6",
   "metadata": {},
   "outputs": [
    {
     "data": {
      "text/plain": [
       "Text(0.5, 1.0, 'Histogram of the length of gaps in the year 2019')"
      ]
     },
     "execution_count": 30,
     "metadata": {},
     "output_type": "execute_result"
    },
    {
     "data": {
      "image/png": "[encoded data removed]",
      "text/plain": [
       "<Figure size 720x360 with 1 Axes>"
      ]
     },
     "metadata": {
      "needs_background": "light"
     },
     "output_type": "display_data"
    }
   ],
   "source": [
    "#2019 \n",
    "df_2019 = pd.read_pickle('data_quality/' + 'gaps_20190101_20191231.pkl')  \n",
    "df_2019['length_of_gap']\n",
    "ax = df_2019['length_of_gap'].astype('timedelta64[m]').plot.hist(figsize=(10,5),bins = 60)\n",
    "ax.set_xlabel(\"length of the length of gaps [min]\")\n",
    "ax.set_title('Histogram of the length of gaps in the year 2019')"
   ]
  },
  {
   "cell_type": "markdown",
   "id": "78e44098",
   "metadata": {},
   "source": []
  },
  {
   "cell_type": "markdown",
   "id": "221c3343",
   "metadata": {},
   "source": [
    "### monthly timeseries with gaps per day ###"
   ]
  },
  {
   "cell_type": "code",
   "execution_count": 26,
   "id": "20c0355a",
   "metadata": {},
   "outputs": [],
   "source": [
    "#%matplotlib inline\n",
    "#import ipywidgets as widgets\n",
    "\n"
   ]
  },
  {
   "cell_type": "code",
   "execution_count": 27,
   "id": "7de31c83",
   "metadata": {},
   "outputs": [
    {
     "name": "stderr",
     "output_type": "stream",
     "text": [
      "/tmp/ipykernel_1993196/2143357989.py:28: SettingWithCopyWarning: \n",
      "A value is trying to be set on a copy of a slice from a DataFrame\n",
      "\n",
      "See the caveats in the documentation: https://pandas.pydata.org/pandas-docs/stable/user_guide/indexing.html#returning-a-view-versus-a-copy\n",
      "  number_of_gaps[d] = number_of_gaps[d] + 1\n"
     ]
    },
    {
     "data": {
      "image/png": "[encoded data removed]",
      "text/plain": [
       "<Figure size 1080x360 with 1 Axes>"
      ]
     },
     "metadata": {
      "needs_background": "light"
     },
     "output_type": "display_data"
    }
   ],
   "source": [
    "gaps_per_day_in_a_year('2018')"
   ]
  },
  {
   "cell_type": "code",
   "execution_count": 23,
   "id": "ac8f64f0",
   "metadata": {},
   "outputs": [
    {
     "name": "stderr",
     "output_type": "stream",
     "text": [
      "/tmp/ipykernel_1993196/3510068300.py:28: SettingWithCopyWarning: \n",
      "A value is trying to be set on a copy of a slice from a DataFrame\n",
      "\n",
      "See the caveats in the documentation: https://pandas.pydata.org/pandas-docs/stable/user_guide/indexing.html#returning-a-view-versus-a-copy\n",
      "  number_of_gaps[d] = number_of_gaps[d] + 1\n"
     ]
    },
    {
     "data": {
      "image/png": "[encoded data removed]",
      "text/plain": [
       "<Figure size 1080x360 with 1 Axes>"
      ]
     },
     "metadata": {
      "needs_background": "light"
     },
     "output_type": "display_data"
    }
   ],
   "source": [
    "gaps_per_day_in_a_year('2019')"
   ]
  },
  {
   "cell_type": "code",
   "execution_count": null,
   "id": "13efab58",
   "metadata": {},
   "outputs": [],
   "source": []
  }
 ],
 "metadata": {
  "kernelspec": {
   "display_name": "Python 3 (ipykernel)",
   "language": "python",
   "name": "python3"
  },
  "language_info": {
   "codemirror_mode": {
    "name": "ipython",
    "version": 3
   },
   "file_extension": ".py",
   "mimetype": "text/x-python",
   "name": "python",
   "nbconvert_exporter": "python",
   "pygments_lexer": "ipython3",
   "version": "3.10.6"
  }
 },
 "nbformat": 4,
 "nbformat_minor": 5
}
